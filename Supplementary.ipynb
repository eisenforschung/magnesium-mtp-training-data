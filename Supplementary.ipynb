{
 "cells": [
  {
   "cell_type": "markdown",
   "id": "32634644-3f56-4a4f-ae14-da18552fa6c5",
   "metadata": {},
   "source": [
    "# Systematic Training Sets for Machine Learning Potentials\n",
    "\n",
    "This notebooks accompanies the publication located [here](https://arxiv.org/abs/2207.04009).\n",
    "\n",
    "The DFT data used for the potential is accessible here in forms readable by [pyiron](pyiron.org) as well as [MLIP](https://gitlab.com/ashapeev/mlip-2-tutorials/-/wikis/Tutorial-2/Home).\n",
    "The second part of this notebook shows how to run simulations with the potentials in [lammps](https://lammps.org/)."
   ]
  },
  {
   "cell_type": "markdown",
   "id": "cf334d2c-bab5-4197-a0d3-7b44a1c54b31",
   "metadata": {},
   "source": [
    "(be sure that you have unpacked the pyiron projects with the `Unpack.ipynb` prior to running this notebook)"
   ]
  },
  {
   "cell_type": "markdown",
   "id": "d587fb26-ede2-4d2d-913f-70153a1a9c96",
   "metadata": {},
   "source": [
    "## Raw Structure Files\n",
    "\n",
    "All structures given here were calculated at a plane-wave cutoff of 550 eV and a 27x27x27 k-mesh.\n",
    "\n",
    "Text files giving the structure, energy, forces and stresses are in the folder `structure_files`."
   ]
  },
  {
   "cell_type": "code",
   "execution_count": 1,
   "id": "3969b56e-aef7-4255-b002-036e2896328e",
   "metadata": {},
   "outputs": [
    {
     "name": "stdout",
     "output_type": "stream",
     "text": [
      "CellMin.cfg\tEverythingNoShear.cfg  IntMin.cfg   Rattle.cfg\tVolMin.cfg\n",
      "Everything.cfg\tHydro.cfg\t       RandSPG.cfg  Shear.cfg\n"
     ]
    }
   ],
   "source": [
    "!ls structure_files/"
   ]
  },
  {
   "cell_type": "code",
   "execution_count": 4,
   "id": "2a227f4d-0212-4e12-8a08-f9e8363c2e77",
   "metadata": {},
   "outputs": [
    {
     "name": "stdout",
     "output_type": "stream",
     "text": [
      "BEGIN_CFG\n",
      "Size\n",
      "   1\n",
      "SuperCell\n",
      "               3.024956      0.000000      0.000000\n",
      "              -1.512478      2.619688      0.000000\n",
      "               0.000000      0.000000      2.694816\n",
      "AtomData:  id type       cartes_x      cartes_y      cartes_z           fx          fy          fz\n",
      "            1    0       0.000000      0.000000      1.349225  -0.00000000e+00  -0.00000000e+00  -0.00000000e+00\n",
      "Energy\t     -1.156145\n",
      "PlusStress:  xx          yy          zz          yz          xz          xy\n",
      "               0.376685      0.376685      1.930518     -0.000000      0.000000      0.000000\n",
      "Feature pyiron\t16279317_0\n",
      "END_CFG\n",
      "\n",
      "BEGIN_CFG\n",
      "Size\n",
      "   1\n",
      "SuperCell\n",
      "               2.831093      0.000000      0.000000\n",
      "               0.000000      2.831093      0.000000\n",
      "               0.000000      0.000000      2.831093\n",
      "AtomData:  id type       cartes_x      cartes_y      cartes_z           fx          fy          fz\n",
      "            1    0       1.415547      1.415547      1.415547   0.00000000e+00   0.00000000e+00   0.00000000e+00\n",
      "Energy\t     -1.041981\n",
      "PlusStress:  xx          yy          zz          yz          xz          xy\n",
      "               0.910499      0.910499      0.910499     -0.000000      0.000000     -0.000000\n",
      "Feature pyiron\t16279317_1\n",
      "END_CFG\n",
      "\n"
     ]
    }
   ],
   "source": [
    "!head -n 30 structure_files/RandSPG.cfg"
   ]
  },
  {
   "cell_type": "markdown",
   "id": "94971c73-e6f8-4a5f-a635-4dd2d1d1c798",
   "metadata": {},
   "source": [
    "## Pyiron TrainingContainers\n",
    "\n",
    "The same structures and data are also available as pyiron jobs, which provide additional plotting functionality and can be readily used to fit new potentials inside pyiron."
   ]
  },
  {
   "cell_type": "code",
   "execution_count": 48,
   "id": "e302e08c-b28e-4db7-a914-092123202097",
   "metadata": {},
   "outputs": [],
   "source": [
    "from pyiron import Project"
   ]
  },
  {
   "cell_type": "code",
   "execution_count": 49,
   "id": "ab0f9914-a396-4d74-a6e6-cbbda8c46857",
   "metadata": {},
   "outputs": [],
   "source": [
    "structure_pr = Project('structures')"
   ]
  },
  {
   "cell_type": "code",
   "execution_count": 50,
   "id": "07e9c20c-cee5-4bd4-9d16-5bc2997354a8",
   "metadata": {},
   "outputs": [
    {
     "data": {
      "text/html": [
       "<div>\n",
       "<style scoped>\n",
       "    .dataframe tbody tr th:only-of-type {\n",
       "        vertical-align: middle;\n",
       "    }\n",
       "\n",
       "    .dataframe tbody tr th {\n",
       "        vertical-align: top;\n",
       "    }\n",
       "\n",
       "    .dataframe thead th {\n",
       "        text-align: right;\n",
       "    }\n",
       "</style>\n",
       "<table border=\"1\" class=\"dataframe\">\n",
       "  <thead>\n",
       "    <tr style=\"text-align: right;\">\n",
       "      <th></th>\n",
       "      <th>id</th>\n",
       "      <th>status</th>\n",
       "      <th>chemicalformula</th>\n",
       "      <th>job</th>\n",
       "      <th>subjob</th>\n",
       "      <th>projectpath</th>\n",
       "      <th>project</th>\n",
       "      <th>timestart</th>\n",
       "      <th>timestop</th>\n",
       "      <th>totalcputime</th>\n",
       "      <th>computer</th>\n",
       "      <th>hamilton</th>\n",
       "      <th>hamversion</th>\n",
       "      <th>parentid</th>\n",
       "      <th>masterid</th>\n",
       "    </tr>\n",
       "  </thead>\n",
       "  <tbody>\n",
       "    <tr>\n",
       "      <th>0</th>\n",
       "      <td>17302567</td>\n",
       "      <td>finished</td>\n",
       "      <td>None</td>\n",
       "      <td>Hydro</td>\n",
       "      <td>/Hydro</td>\n",
       "      <td>/cmmc/u/</td>\n",
       "      <td>zora/pyiron/projects/2021/MgStructurePrototypes/SupplementaryNotebook/structures/</td>\n",
       "      <td>2022-01-18 12:04:11.874011</td>\n",
       "      <td>None</td>\n",
       "      <td>None</td>\n",
       "      <td>zora@cmti001#1</td>\n",
       "      <td>TrainingContainer</td>\n",
       "      <td>0.4</td>\n",
       "      <td>None</td>\n",
       "      <td>None</td>\n",
       "    </tr>\n",
       "    <tr>\n",
       "      <th>1</th>\n",
       "      <td>17302568</td>\n",
       "      <td>finished</td>\n",
       "      <td>None</td>\n",
       "      <td>CellMin</td>\n",
       "      <td>/CellMin</td>\n",
       "      <td>/cmmc/u/</td>\n",
       "      <td>zora/pyiron/projects/2021/MgStructurePrototypes/SupplementaryNotebook/structures/</td>\n",
       "      <td>2022-01-18 12:13:00.518326</td>\n",
       "      <td>None</td>\n",
       "      <td>None</td>\n",
       "      <td>zora@cmti001#1</td>\n",
       "      <td>TrainingContainer</td>\n",
       "      <td>0.4</td>\n",
       "      <td>None</td>\n",
       "      <td>None</td>\n",
       "    </tr>\n",
       "    <tr>\n",
       "      <th>2</th>\n",
       "      <td>17302569</td>\n",
       "      <td>finished</td>\n",
       "      <td>None</td>\n",
       "      <td>IntMin</td>\n",
       "      <td>/IntMin</td>\n",
       "      <td>/cmmc/u/</td>\n",
       "      <td>zora/pyiron/projects/2021/MgStructurePrototypes/SupplementaryNotebook/structures/</td>\n",
       "      <td>2022-01-18 12:14:06.163905</td>\n",
       "      <td>None</td>\n",
       "      <td>None</td>\n",
       "      <td>zora@cmti001#1</td>\n",
       "      <td>TrainingContainer</td>\n",
       "      <td>0.4</td>\n",
       "      <td>None</td>\n",
       "      <td>None</td>\n",
       "    </tr>\n",
       "    <tr>\n",
       "      <th>3</th>\n",
       "      <td>17302570</td>\n",
       "      <td>finished</td>\n",
       "      <td>None</td>\n",
       "      <td>VolMin</td>\n",
       "      <td>/VolMin</td>\n",
       "      <td>/cmmc/u/</td>\n",
       "      <td>zora/pyiron/projects/2021/MgStructurePrototypes/SupplementaryNotebook/structures/</td>\n",
       "      <td>2022-01-18 12:15:42.795611</td>\n",
       "      <td>None</td>\n",
       "      <td>None</td>\n",
       "      <td>zora@cmti001#1</td>\n",
       "      <td>TrainingContainer</td>\n",
       "      <td>0.4</td>\n",
       "      <td>None</td>\n",
       "      <td>None</td>\n",
       "    </tr>\n",
       "    <tr>\n",
       "      <th>4</th>\n",
       "      <td>17302571</td>\n",
       "      <td>finished</td>\n",
       "      <td>None</td>\n",
       "      <td>Rattle</td>\n",
       "      <td>/Rattle</td>\n",
       "      <td>/cmmc/u/</td>\n",
       "      <td>zora/pyiron/projects/2021/MgStructurePrototypes/SupplementaryNotebook/structures/</td>\n",
       "      <td>2022-01-18 14:03:41.676545</td>\n",
       "      <td>None</td>\n",
       "      <td>None</td>\n",
       "      <td>zora@cmti001#1</td>\n",
       "      <td>TrainingContainer</td>\n",
       "      <td>0.4</td>\n",
       "      <td>None</td>\n",
       "      <td>None</td>\n",
       "    </tr>\n",
       "    <tr>\n",
       "      <th>5</th>\n",
       "      <td>17302572</td>\n",
       "      <td>finished</td>\n",
       "      <td>None</td>\n",
       "      <td>EverythingNoShear</td>\n",
       "      <td>/EverythingNoShear</td>\n",
       "      <td>/cmmc/u/</td>\n",
       "      <td>zora/pyiron/projects/2021/MgStructurePrototypes/SupplementaryNotebook/structures/</td>\n",
       "      <td>2022-01-18 17:57:26.580139</td>\n",
       "      <td>None</td>\n",
       "      <td>None</td>\n",
       "      <td>zora@cmti001#1</td>\n",
       "      <td>TrainingContainer</td>\n",
       "      <td>0.4</td>\n",
       "      <td>None</td>\n",
       "      <td>None</td>\n",
       "    </tr>\n",
       "    <tr>\n",
       "      <th>7</th>\n",
       "      <td>17302573</td>\n",
       "      <td>finished</td>\n",
       "      <td>None</td>\n",
       "      <td>Shear</td>\n",
       "      <td>/Shear</td>\n",
       "      <td>/cmmc/u/</td>\n",
       "      <td>zora/pyiron/projects/2021/MgStructurePrototypes/SupplementaryNotebook/structures/</td>\n",
       "      <td>2022-02-13 11:52:27.715162</td>\n",
       "      <td>None</td>\n",
       "      <td>None</td>\n",
       "      <td>zora@cmti001#1</td>\n",
       "      <td>TrainingContainer</td>\n",
       "      <td>0.4</td>\n",
       "      <td>None</td>\n",
       "      <td>None</td>\n",
       "    </tr>\n",
       "    <tr>\n",
       "      <th>6</th>\n",
       "      <td>17302576</td>\n",
       "      <td>finished</td>\n",
       "      <td>None</td>\n",
       "      <td>Everything</td>\n",
       "      <td>/Everything</td>\n",
       "      <td>/cmmc/u/</td>\n",
       "      <td>zora/pyiron/projects/2021/MgStructurePrototypes/SupplementaryNotebook/structures/</td>\n",
       "      <td>2022-03-29 17:28:07.344916</td>\n",
       "      <td>None</td>\n",
       "      <td>None</td>\n",
       "      <td>zora@cmti001#1</td>\n",
       "      <td>TrainingContainer</td>\n",
       "      <td>0.4</td>\n",
       "      <td>None</td>\n",
       "      <td>None</td>\n",
       "    </tr>\n",
       "    <tr>\n",
       "      <th>8</th>\n",
       "      <td>17302577</td>\n",
       "      <td>finished</td>\n",
       "      <td>None</td>\n",
       "      <td>RandSPG</td>\n",
       "      <td>/RandSPG</td>\n",
       "      <td>/cmmc/u/</td>\n",
       "      <td>zora/pyiron/projects/2021/MgStructurePrototypes/SupplementaryNotebook/structures/</td>\n",
       "      <td>2022-01-18 12:02:56.662539</td>\n",
       "      <td>None</td>\n",
       "      <td>None</td>\n",
       "      <td>zora@cmti001#1</td>\n",
       "      <td>TrainingContainer</td>\n",
       "      <td>0.4</td>\n",
       "      <td>None</td>\n",
       "      <td>None</td>\n",
       "    </tr>\n",
       "  </tbody>\n",
       "</table>\n",
       "</div>"
      ],
      "text/plain": [
       "         id    status chemicalformula                job              subjob  \\\n",
       "0  17302567  finished            None              Hydro              /Hydro   \n",
       "1  17302568  finished            None            CellMin            /CellMin   \n",
       "2  17302569  finished            None             IntMin             /IntMin   \n",
       "3  17302570  finished            None             VolMin             /VolMin   \n",
       "4  17302571  finished            None             Rattle             /Rattle   \n",
       "5  17302572  finished            None  EverythingNoShear  /EverythingNoShear   \n",
       "7  17302573  finished            None              Shear              /Shear   \n",
       "6  17302576  finished            None         Everything         /Everything   \n",
       "8  17302577  finished            None            RandSPG            /RandSPG   \n",
       "\n",
       "  projectpath  \\\n",
       "0    /cmmc/u/   \n",
       "1    /cmmc/u/   \n",
       "2    /cmmc/u/   \n",
       "3    /cmmc/u/   \n",
       "4    /cmmc/u/   \n",
       "5    /cmmc/u/   \n",
       "7    /cmmc/u/   \n",
       "6    /cmmc/u/   \n",
       "8    /cmmc/u/   \n",
       "\n",
       "                                                                             project  \\\n",
       "0  zora/pyiron/projects/2021/MgStructurePrototypes/SupplementaryNotebook/structures/   \n",
       "1  zora/pyiron/projects/2021/MgStructurePrototypes/SupplementaryNotebook/structures/   \n",
       "2  zora/pyiron/projects/2021/MgStructurePrototypes/SupplementaryNotebook/structures/   \n",
       "3  zora/pyiron/projects/2021/MgStructurePrototypes/SupplementaryNotebook/structures/   \n",
       "4  zora/pyiron/projects/2021/MgStructurePrototypes/SupplementaryNotebook/structures/   \n",
       "5  zora/pyiron/projects/2021/MgStructurePrototypes/SupplementaryNotebook/structures/   \n",
       "7  zora/pyiron/projects/2021/MgStructurePrototypes/SupplementaryNotebook/structures/   \n",
       "6  zora/pyiron/projects/2021/MgStructurePrototypes/SupplementaryNotebook/structures/   \n",
       "8  zora/pyiron/projects/2021/MgStructurePrototypes/SupplementaryNotebook/structures/   \n",
       "\n",
       "                   timestart timestop totalcputime        computer  \\\n",
       "0 2022-01-18 12:04:11.874011     None         None  zora@cmti001#1   \n",
       "1 2022-01-18 12:13:00.518326     None         None  zora@cmti001#1   \n",
       "2 2022-01-18 12:14:06.163905     None         None  zora@cmti001#1   \n",
       "3 2022-01-18 12:15:42.795611     None         None  zora@cmti001#1   \n",
       "4 2022-01-18 14:03:41.676545     None         None  zora@cmti001#1   \n",
       "5 2022-01-18 17:57:26.580139     None         None  zora@cmti001#1   \n",
       "7 2022-02-13 11:52:27.715162     None         None  zora@cmti001#1   \n",
       "6 2022-03-29 17:28:07.344916     None         None  zora@cmti001#1   \n",
       "8 2022-01-18 12:02:56.662539     None         None  zora@cmti001#1   \n",
       "\n",
       "            hamilton hamversion parentid masterid  \n",
       "0  TrainingContainer        0.4     None     None  \n",
       "1  TrainingContainer        0.4     None     None  \n",
       "2  TrainingContainer        0.4     None     None  \n",
       "3  TrainingContainer        0.4     None     None  \n",
       "4  TrainingContainer        0.4     None     None  \n",
       "5  TrainingContainer        0.4     None     None  \n",
       "7  TrainingContainer        0.4     None     None  \n",
       "6  TrainingContainer        0.4     None     None  \n",
       "8  TrainingContainer        0.4     None     None  "
      ]
     },
     "execution_count": 50,
     "metadata": {},
     "output_type": "execute_result"
    }
   ],
   "source": [
    "structure_pr.job_table()"
   ]
  },
  {
   "cell_type": "code",
   "execution_count": 51,
   "id": "7a1dbb96-8745-4655-a5a5-a819aca1539e",
   "metadata": {},
   "outputs": [],
   "source": [
    "j = structure_pr.load('Hydro')"
   ]
  },
  {
   "cell_type": "code",
   "execution_count": 52,
   "id": "417aa265-35fc-4d09-a71a-e714aed2cd12",
   "metadata": {},
   "outputs": [
    {
     "data": {
      "image/png": "[encoded data removed]",
      "text/plain": [
       "<Figure size 1152x648 with 1 Axes>"
      ]
     },
     "metadata": {
      "needs_background": "light"
     },
     "output_type": "display_data"
    }
   ],
   "source": [
    "ev = j.plot.energy_volume()"
   ]
  },
  {
   "cell_type": "code",
   "execution_count": 53,
   "id": "733d4f65-24f8-4fe8-ab30-7ae1927090e6",
   "metadata": {},
   "outputs": [
    {
     "data": {
      "text/plain": [
       "<AxesSubplot:ylabel='Frequency'>"
      ]
     },
     "execution_count": 53,
     "metadata": {},
     "output_type": "execute_result"
    },
    {
     "data": {
      "image/png": "[encoded data removed]",
      "text/plain": [
       "<Figure size 1152x648 with 1 Axes>"
      ]
     },
     "metadata": {
      "needs_background": "light"
     },
     "output_type": "display_data"
    }
   ],
   "source": [
    "ev.E.plot.hist()"
   ]
  },
  {
   "cell_type": "markdown",
   "id": "261eb587-ff50-4e65-9cd5-60313ab4aa3a",
   "metadata": {},
   "source": [
    "## Fitted Potentials\n",
    "\n",
    "The potentential files necessary to run lammps calculations are provided in `fit_files/`.  The following lines need to be provided in your lammps script\n",
    "```\n",
    "pair_style mlip mlip.ini\n",
    "pair_coeff * *\n",
    "```"
   ]
  },
  {
   "cell_type": "code",
   "execution_count": 55,
   "id": "6c563a86-3164-4ddf-b308-fb1644433134",
   "metadata": {},
   "outputs": [],
   "source": [
    "fit_pr = Project(\"fit\")"
   ]
  },
  {
   "cell_type": "code",
   "execution_count": 52,
   "id": "e158a420-e156-4e07-8843-9f394a745ffc",
   "metadata": {},
   "outputs": [
    {
     "name": "stderr",
     "output_type": "stream",
     "text": [
      "/u/zora/software/pyiron_base/pyiron_base/database/generic.py:560 sql_query: {'project': 'zora/pyiron/projects/2021/MgStructurePrototypes/SupplementaryNotebook/fit/%'}\n",
      "/u/zora/software/pyiron_base/pyiron_base/database/generic.py:374 Reconnecting to DB; connection closed.\n"
     ]
    },
    {
     "data": {
      "text/html": [
       "<div>\n",
       "<style scoped>\n",
       "    .dataframe tbody tr th:only-of-type {\n",
       "        vertical-align: middle;\n",
       "    }\n",
       "\n",
       "    .dataframe tbody tr th {\n",
       "        vertical-align: top;\n",
       "    }\n",
       "\n",
       "    .dataframe thead th {\n",
       "        text-align: right;\n",
       "    }\n",
       "</style>\n",
       "<table border=\"1\" class=\"dataframe\">\n",
       "  <thead>\n",
       "    <tr style=\"text-align: right;\">\n",
       "      <th></th>\n",
       "      <th>id</th>\n",
       "      <th>status</th>\n",
       "      <th>chemicalformula</th>\n",
       "      <th>job</th>\n",
       "      <th>subjob</th>\n",
       "      <th>projectpath</th>\n",
       "      <th>project</th>\n",
       "      <th>timestart</th>\n",
       "      <th>timestop</th>\n",
       "      <th>totalcputime</th>\n",
       "      <th>computer</th>\n",
       "      <th>hamilton</th>\n",
       "      <th>hamversion</th>\n",
       "      <th>parentid</th>\n",
       "      <th>masterid</th>\n",
       "    </tr>\n",
       "  </thead>\n",
       "  <tbody>\n",
       "    <tr>\n",
       "      <th>1</th>\n",
       "      <td>17299655</td>\n",
       "      <td>finished</td>\n",
       "      <td>None</td>\n",
       "      <td>MTP08_1_8_5_2</td>\n",
       "      <td>/MTP08_1_8_5_2</td>\n",
       "      <td>/cmmc/u/</td>\n",
       "      <td>zora/pyiron/projects/2021/MgStructurePrototypes/SupplementaryNotebook/fit/Everything/</td>\n",
       "      <td>2022-02-14 17:00:28.272356</td>\n",
       "      <td>2022-02-14 17:07:20.084190</td>\n",
       "      <td>411.0</td>\n",
       "      <td>zora@cmti001#10#cm</td>\n",
       "      <td>Mlip</td>\n",
       "      <td>0.1.0</td>\n",
       "      <td>NaN</td>\n",
       "      <td>None</td>\n",
       "    </tr>\n",
       "    <tr>\n",
       "      <th>2</th>\n",
       "      <td>17299656</td>\n",
       "      <td>finished</td>\n",
       "      <td>None</td>\n",
       "      <td>MTP08_1_8_6_5</td>\n",
       "      <td>/MTP08_1_8_6_5</td>\n",
       "      <td>/cmmc/u/</td>\n",
       "      <td>zora/pyiron/projects/2021/MgStructurePrototypes/SupplementaryNotebook/fit/Everything/</td>\n",
       "      <td>2022-02-14 17:01:01.329828</td>\n",
       "      <td>2022-02-14 17:14:22.346561</td>\n",
       "      <td>801.0</td>\n",
       "      <td>zora@cmti001#10#cm</td>\n",
       "      <td>Mlip</td>\n",
       "      <td>0.1.0</td>\n",
       "      <td>NaN</td>\n",
       "      <td>None</td>\n",
       "    </tr>\n",
       "    <tr>\n",
       "      <th>3</th>\n",
       "      <td>17299657</td>\n",
       "      <td>finished</td>\n",
       "      <td>None</td>\n",
       "      <td>MTP08_1_8_8_2</td>\n",
       "      <td>/MTP08_1_8_8_2</td>\n",
       "      <td>/cmmc/u/</td>\n",
       "      <td>zora/pyiron/projects/2021/MgStructurePrototypes/SupplementaryNotebook/fit/Everything/</td>\n",
       "      <td>2022-02-14 17:01:01.139638</td>\n",
       "      <td>2022-02-14 17:20:37.324433</td>\n",
       "      <td>1176.0</td>\n",
       "      <td>zora@cmti001#10#cm</td>\n",
       "      <td>Mlip</td>\n",
       "      <td>0.1.0</td>\n",
       "      <td>NaN</td>\n",
       "      <td>None</td>\n",
       "    </tr>\n",
       "    <tr>\n",
       "      <th>4</th>\n",
       "      <td>17299658</td>\n",
       "      <td>finished</td>\n",
       "      <td>None</td>\n",
       "      <td>MTP10_1_8_5_2</td>\n",
       "      <td>/MTP10_1_8_5_2</td>\n",
       "      <td>/cmmc/u/</td>\n",
       "      <td>zora/pyiron/projects/2021/MgStructurePrototypes/SupplementaryNotebook/fit/Everything/</td>\n",
       "      <td>2022-02-14 17:01:02.554183</td>\n",
       "      <td>2022-02-14 17:13:36.720639</td>\n",
       "      <td>754.0</td>\n",
       "      <td>zora@cmti001#10#cm</td>\n",
       "      <td>Mlip</td>\n",
       "      <td>0.1.0</td>\n",
       "      <td>NaN</td>\n",
       "      <td>None</td>\n",
       "    </tr>\n",
       "    <tr>\n",
       "      <th>5</th>\n",
       "      <td>17299659</td>\n",
       "      <td>finished</td>\n",
       "      <td>None</td>\n",
       "      <td>MTP10_1_8_6_5</td>\n",
       "      <td>/MTP10_1_8_6_5</td>\n",
       "      <td>/cmmc/u/</td>\n",
       "      <td>zora/pyiron/projects/2021/MgStructurePrototypes/SupplementaryNotebook/fit/Everything/</td>\n",
       "      <td>2022-02-14 17:01:33.305928</td>\n",
       "      <td>2022-02-14 17:40:40.688334</td>\n",
       "      <td>2347.0</td>\n",
       "      <td>zora@cmti001#10#cm</td>\n",
       "      <td>Mlip</td>\n",
       "      <td>0.1.0</td>\n",
       "      <td>NaN</td>\n",
       "      <td>None</td>\n",
       "    </tr>\n",
       "    <tr>\n",
       "      <th>...</th>\n",
       "      <td>...</td>\n",
       "      <td>...</td>\n",
       "      <td>...</td>\n",
       "      <td>...</td>\n",
       "      <td>...</td>\n",
       "      <td>...</td>\n",
       "      <td>...</td>\n",
       "      <td>...</td>\n",
       "      <td>...</td>\n",
       "      <td>...</td>\n",
       "      <td>...</td>\n",
       "      <td>...</td>\n",
       "      <td>...</td>\n",
       "      <td>...</td>\n",
       "      <td>...</td>\n",
       "    </tr>\n",
       "    <tr>\n",
       "      <th>102</th>\n",
       "      <td>17299871</td>\n",
       "      <td>finished</td>\n",
       "      <td>None</td>\n",
       "      <td>MTP14_1_8_6_5_restart</td>\n",
       "      <td>/MTP14_1_8_6_5_restart</td>\n",
       "      <td>/cmmc/u/</td>\n",
       "      <td>zora/pyiron/projects/2021/MgStructurePrototypes/SupplementaryNotebook/fit/EverythingNoShear/</td>\n",
       "      <td>2022-05-11 17:11:54.770069</td>\n",
       "      <td>2022-05-11 18:04:57.223832</td>\n",
       "      <td>3182.0</td>\n",
       "      <td>zora@cmti001#40#cm</td>\n",
       "      <td>Mlip</td>\n",
       "      <td>0.1.0</td>\n",
       "      <td>17064443.0</td>\n",
       "      <td>None</td>\n",
       "    </tr>\n",
       "    <tr>\n",
       "      <th>103</th>\n",
       "      <td>17299872</td>\n",
       "      <td>finished</td>\n",
       "      <td>None</td>\n",
       "      <td>MTP14_1_8_8_2_restart</td>\n",
       "      <td>/MTP14_1_8_8_2_restart</td>\n",
       "      <td>/cmmc/u/</td>\n",
       "      <td>zora/pyiron/projects/2021/MgStructurePrototypes/SupplementaryNotebook/fit/EverythingNoShear/</td>\n",
       "      <td>2022-05-11 17:11:54.786860</td>\n",
       "      <td>2022-05-11 18:15:17.149168</td>\n",
       "      <td>3802.0</td>\n",
       "      <td>zora@cmti001#40#cm</td>\n",
       "      <td>Mlip</td>\n",
       "      <td>0.1.0</td>\n",
       "      <td>17064444.0</td>\n",
       "      <td>None</td>\n",
       "    </tr>\n",
       "    <tr>\n",
       "      <th>104</th>\n",
       "      <td>17299873</td>\n",
       "      <td>finished</td>\n",
       "      <td>None</td>\n",
       "      <td>MTP18_1_8_5_2_restart</td>\n",
       "      <td>/MTP18_1_8_5_2_restart</td>\n",
       "      <td>/cmmc/u/</td>\n",
       "      <td>zora/pyiron/projects/2021/MgStructurePrototypes/SupplementaryNotebook/fit/EverythingNoShear/</td>\n",
       "      <td>2022-05-11 15:54:56.289233</td>\n",
       "      <td>2022-05-11 16:29:26.525386</td>\n",
       "      <td>2070.0</td>\n",
       "      <td>zora@cmti001#80#cm</td>\n",
       "      <td>Mlip</td>\n",
       "      <td>0.1.0</td>\n",
       "      <td>17064445.0</td>\n",
       "      <td>None</td>\n",
       "    </tr>\n",
       "    <tr>\n",
       "      <th>105</th>\n",
       "      <td>17299874</td>\n",
       "      <td>finished</td>\n",
       "      <td>None</td>\n",
       "      <td>MTP18_1_8_6_5_restart</td>\n",
       "      <td>/MTP18_1_8_6_5_restart</td>\n",
       "      <td>/cmmc/u/</td>\n",
       "      <td>zora/pyiron/projects/2021/MgStructurePrototypes/SupplementaryNotebook/fit/EverythingNoShear/</td>\n",
       "      <td>2022-05-11 16:29:41.217868</td>\n",
       "      <td>2022-05-11 17:38:48.451907</td>\n",
       "      <td>4147.0</td>\n",
       "      <td>zora@cmti001#80#cm</td>\n",
       "      <td>Mlip</td>\n",
       "      <td>0.1.0</td>\n",
       "      <td>17064446.0</td>\n",
       "      <td>None</td>\n",
       "    </tr>\n",
       "    <tr>\n",
       "      <th>106</th>\n",
       "      <td>17299875</td>\n",
       "      <td>finished</td>\n",
       "      <td>None</td>\n",
       "      <td>MTP18_1_8_8_2_restart</td>\n",
       "      <td>/MTP18_1_8_8_2_restart</td>\n",
       "      <td>/cmmc/u/</td>\n",
       "      <td>zora/pyiron/projects/2021/MgStructurePrototypes/SupplementaryNotebook/fit/EverythingNoShear/</td>\n",
       "      <td>2022-05-11 16:53:33.661555</td>\n",
       "      <td>2022-05-11 18:49:07.915599</td>\n",
       "      <td>6934.0</td>\n",
       "      <td>zora@cmti001#80#cm</td>\n",
       "      <td>Mlip</td>\n",
       "      <td>0.1.0</td>\n",
       "      <td>17064447.0</td>\n",
       "      <td>None</td>\n",
       "    </tr>\n",
       "  </tbody>\n",
       "</table>\n",
       "<p>107 rows × 15 columns</p>\n",
       "</div>"
      ],
      "text/plain": [
       "           id    status chemicalformula                    job  \\\n",
       "1    17299655  finished            None          MTP08_1_8_5_2   \n",
       "2    17299656  finished            None          MTP08_1_8_6_5   \n",
       "3    17299657  finished            None          MTP08_1_8_8_2   \n",
       "4    17299658  finished            None          MTP10_1_8_5_2   \n",
       "5    17299659  finished            None          MTP10_1_8_6_5   \n",
       "..        ...       ...             ...                    ...   \n",
       "102  17299871  finished            None  MTP14_1_8_6_5_restart   \n",
       "103  17299872  finished            None  MTP14_1_8_8_2_restart   \n",
       "104  17299873  finished            None  MTP18_1_8_5_2_restart   \n",
       "105  17299874  finished            None  MTP18_1_8_6_5_restart   \n",
       "106  17299875  finished            None  MTP18_1_8_8_2_restart   \n",
       "\n",
       "                     subjob projectpath  \\\n",
       "1            /MTP08_1_8_5_2    /cmmc/u/   \n",
       "2            /MTP08_1_8_6_5    /cmmc/u/   \n",
       "3            /MTP08_1_8_8_2    /cmmc/u/   \n",
       "4            /MTP10_1_8_5_2    /cmmc/u/   \n",
       "5            /MTP10_1_8_6_5    /cmmc/u/   \n",
       "..                      ...         ...   \n",
       "102  /MTP14_1_8_6_5_restart    /cmmc/u/   \n",
       "103  /MTP14_1_8_8_2_restart    /cmmc/u/   \n",
       "104  /MTP18_1_8_5_2_restart    /cmmc/u/   \n",
       "105  /MTP18_1_8_6_5_restart    /cmmc/u/   \n",
       "106  /MTP18_1_8_8_2_restart    /cmmc/u/   \n",
       "\n",
       "                                                                                          project  \\\n",
       "1           zora/pyiron/projects/2021/MgStructurePrototypes/SupplementaryNotebook/fit/Everything/   \n",
       "2           zora/pyiron/projects/2021/MgStructurePrototypes/SupplementaryNotebook/fit/Everything/   \n",
       "3           zora/pyiron/projects/2021/MgStructurePrototypes/SupplementaryNotebook/fit/Everything/   \n",
       "4           zora/pyiron/projects/2021/MgStructurePrototypes/SupplementaryNotebook/fit/Everything/   \n",
       "5           zora/pyiron/projects/2021/MgStructurePrototypes/SupplementaryNotebook/fit/Everything/   \n",
       "..                                                                                            ...   \n",
       "102  zora/pyiron/projects/2021/MgStructurePrototypes/SupplementaryNotebook/fit/EverythingNoShear/   \n",
       "103  zora/pyiron/projects/2021/MgStructurePrototypes/SupplementaryNotebook/fit/EverythingNoShear/   \n",
       "104  zora/pyiron/projects/2021/MgStructurePrototypes/SupplementaryNotebook/fit/EverythingNoShear/   \n",
       "105  zora/pyiron/projects/2021/MgStructurePrototypes/SupplementaryNotebook/fit/EverythingNoShear/   \n",
       "106  zora/pyiron/projects/2021/MgStructurePrototypes/SupplementaryNotebook/fit/EverythingNoShear/   \n",
       "\n",
       "                     timestart                   timestop  totalcputime  \\\n",
       "1   2022-02-14 17:00:28.272356 2022-02-14 17:07:20.084190         411.0   \n",
       "2   2022-02-14 17:01:01.329828 2022-02-14 17:14:22.346561         801.0   \n",
       "3   2022-02-14 17:01:01.139638 2022-02-14 17:20:37.324433        1176.0   \n",
       "4   2022-02-14 17:01:02.554183 2022-02-14 17:13:36.720639         754.0   \n",
       "5   2022-02-14 17:01:33.305928 2022-02-14 17:40:40.688334        2347.0   \n",
       "..                         ...                        ...           ...   \n",
       "102 2022-05-11 17:11:54.770069 2022-05-11 18:04:57.223832        3182.0   \n",
       "103 2022-05-11 17:11:54.786860 2022-05-11 18:15:17.149168        3802.0   \n",
       "104 2022-05-11 15:54:56.289233 2022-05-11 16:29:26.525386        2070.0   \n",
       "105 2022-05-11 16:29:41.217868 2022-05-11 17:38:48.451907        4147.0   \n",
       "106 2022-05-11 16:53:33.661555 2022-05-11 18:49:07.915599        6934.0   \n",
       "\n",
       "               computer hamilton hamversion    parentid masterid  \n",
       "1    zora@cmti001#10#cm     Mlip      0.1.0         NaN     None  \n",
       "2    zora@cmti001#10#cm     Mlip      0.1.0         NaN     None  \n",
       "3    zora@cmti001#10#cm     Mlip      0.1.0         NaN     None  \n",
       "4    zora@cmti001#10#cm     Mlip      0.1.0         NaN     None  \n",
       "5    zora@cmti001#10#cm     Mlip      0.1.0         NaN     None  \n",
       "..                  ...      ...        ...         ...      ...  \n",
       "102  zora@cmti001#40#cm     Mlip      0.1.0  17064443.0     None  \n",
       "103  zora@cmti001#40#cm     Mlip      0.1.0  17064444.0     None  \n",
       "104  zora@cmti001#80#cm     Mlip      0.1.0  17064445.0     None  \n",
       "105  zora@cmti001#80#cm     Mlip      0.1.0  17064446.0     None  \n",
       "106  zora@cmti001#80#cm     Mlip      0.1.0  17064447.0     None  \n",
       "\n",
       "[107 rows x 15 columns]"
      ]
     },
     "execution_count": 52,
     "metadata": {},
     "output_type": "execute_result"
    }
   ],
   "source": [
    "fit_pr.job_table()"
   ]
  },
  {
   "cell_type": "code",
   "execution_count": 68,
   "id": "fa54e6a6-e108-40d3-8dc6-5528a18a8e06",
   "metadata": {},
   "outputs": [],
   "source": [
    "jpot = Project('fit/Everything').load('MTP24_1_8_5_2')"
   ]
  },
  {
   "cell_type": "code",
   "execution_count": 63,
   "id": "57117ba7-93cb-40ed-9fd7-f080e08479fa",
   "metadata": {},
   "outputs": [],
   "source": [
    "import matplotlib.pyplot as plt\n",
    "plt.rc('figure', figsize=(16,9))"
   ]
  },
  {
   "cell_type": "code",
   "execution_count": 64,
   "id": "bdfa3f46-0466-45d1-8a85-86972ce46c89",
   "metadata": {},
   "outputs": [
    {
     "data": {
      "image/png": "[encoded data removed]",
      "text/plain": [
       "<Figure size 1152x648 with 2 Axes>"
      ]
     },
     "metadata": {
      "needs_background": "light"
     },
     "output_type": "display_data"
    }
   ],
   "source": [
    "jpot.plot.energy_scatter_histogram()"
   ]
  },
  {
   "cell_type": "code",
   "execution_count": 65,
   "id": "8bab6ed5-667a-4ccc-8c52-662740e37e66",
   "metadata": {},
   "outputs": [
    {
     "data": {
      "image/png": "[encoded data removed]",
      "text/plain": [
       "<Figure size 1152x648 with 2 Axes>"
      ]
     },
     "metadata": {
      "needs_background": "light"
     },
     "output_type": "display_data"
    }
   ],
   "source": [
    "jpot.plot.force_scatter_histogram()"
   ]
  },
  {
   "cell_type": "markdown",
   "id": "c360d881-b777-49d5-b4bf-e2ad8c8fcfa4",
   "metadata": {},
   "source": [
    "### Run a MD Simulation"
   ]
  },
  {
   "cell_type": "code",
   "execution_count": 79,
   "id": "67c795f5-ff9f-4135-9472-a9f16a9ce793",
   "metadata": {},
   "outputs": [
    {
     "data": {
      "text/plain": [
       "['testing.cfg',\n",
       " 'testing_efs.cfg',\n",
       " 'training_efs.cfg',\n",
       " 'testing.errors',\n",
       " 'training.cfg',\n",
       " 'diff.cfg',\n",
       " 'training_new.cfg',\n",
       " 'Trained.mtp_',\n",
       " 'training.log',\n",
       " 'selected.cfg',\n",
       " 'info.log',\n",
       " 'training.errors',\n",
       " 'time.out',\n",
       " 'grades.cfg',\n",
       " 'state.als',\n",
       " 'run_queue.sh',\n",
       " 'mlip.sh',\n",
       " 'select.log',\n",
       " 'grading.log',\n",
       " 'start.mtp',\n",
       " 'state.mvs',\n",
       " 'error.out']"
      ]
     },
     "execution_count": 79,
     "metadata": {},
     "output_type": "execute_result"
    }
   ],
   "source": [
    "jpot.list_files()"
   ]
  },
  {
   "cell_type": "code",
   "execution_count": 84,
   "id": "63baa551-61ec-47af-9c2f-4b26303de6ee",
   "metadata": {},
   "outputs": [],
   "source": [
    "jpot = Project('fit/Everything').load('MTP16_1_8_8_2')"
   ]
  },
  {
   "cell_type": "code",
   "execution_count": 87,
   "id": "d4f5d3be-a9f1-4e93-8cdc-47b4884a8f69",
   "metadata": {},
   "outputs": [
    {
     "name": "stdout",
     "output_type": "stream",
     "text": [
      "The job md was saved and received the ID: 17326568\n"
     ]
    }
   ],
   "source": [
    "pr = Project('.')\n",
    "jmd = pr.create.job.LammpsMlip('md')\n",
    "jmd.potential = jpot.get_lammps_potential()\n",
    "jmd.structure = pr.create.structure.bulk('Mg', orthorhombic=True).repeat(3)\n",
    "jmd.calc_md(temperature=500, pressure=0)\n",
    "jmd.run()"
   ]
  },
  {
   "cell_type": "code",
   "execution_count": 88,
   "id": "41c54ebf-d679-4038-9b2c-7eb84f2de9b4",
   "metadata": {},
   "outputs": [
    {
     "data": {
      "application/vnd.jupyter.widget-view+json": {
       "model_id": "30975e4151a74385a4aca707f670dd00",
       "version_major": 2,
       "version_minor": 0
      },
      "text/plain": [
       "NGLWidget(max_frame=10)"
      ]
     },
     "metadata": {},
     "output_type": "display_data"
    }
   ],
   "source": [
    "jmd.animate_structure()"
   ]
  },
  {
   "cell_type": "code",
   "execution_count": 90,
   "id": "43cb3d75-446d-401a-84fa-1655c43b5aa2",
   "metadata": {},
   "outputs": [
    {
     "data": {
      "text/plain": [
       "[<matplotlib.lines.Line2D at 0x14df4f7d0310>]"
      ]
     },
     "execution_count": 90,
     "metadata": {},
     "output_type": "execute_result"
    },
    {
     "data": {
      "image/png": "[encoded data removed]",
      "text/plain": [
       "<Figure size 1152x648 with 1 Axes>"
      ]
     },
     "metadata": {
      "needs_background": "light"
     },
     "output_type": "display_data"
    }
   ],
   "source": [
    "plt.plot(jmd.output.energy_tot)"
   ]
  }
 ],
 "metadata": {
  "kernelspec": {
   "display_name": "Python 3 (ipykernel)",
   "language": "python",
   "name": "python3"
  },
  "language_info": {
   "codemirror_mode": {
    "name": "ipython",
    "version": 3
   },
   "file_extension": ".py",
   "mimetype": "text/x-python",
   "name": "python",
   "nbconvert_exporter": "python",
   "pygments_lexer": "ipython3",
   "version": "3.8.13"
  }
 },
 "nbformat": 4,
 "nbformat_minor": 5
}
